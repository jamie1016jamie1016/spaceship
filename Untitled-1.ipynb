{
 "cells": [
  {
   "cell_type": "code",
   "execution_count": 123,
   "metadata": {},
   "outputs": [],
   "source": [
    "import numpy as np\n",
    "import pandas as pd\n",
    "from sklearn.model_selection import train_test_split\n",
    "from sklearn.metrics import accuracy_score\n",
    "from xgboost import XGBClassifier\n",
    "from sklearn.tree import DecisionTreeClassifier\n",
    "from sklearn.ensemble import RandomForestClassifier\n",
    "from sklearn.model_selection import GridSearchCV\n",
    "import optuna"
   ]
  },
  {
   "cell_type": "code",
   "execution_count": 96,
   "metadata": {},
   "outputs": [],
   "source": [
    "df = pd.read_csv(\"data/train.csv\")"
   ]
  },
  {
   "cell_type": "code",
   "execution_count": 97,
   "metadata": {},
   "outputs": [],
   "source": [
    "df_test = pd.read_csv(\"data/test.csv\")"
   ]
  },
  {
   "cell_type": "code",
   "execution_count": 98,
   "metadata": {},
   "outputs": [
    {
     "data": {
      "text/plain": [
       "PassengerId       0\n",
       "HomePlanet       87\n",
       "CryoSleep        93\n",
       "Cabin           100\n",
       "Destination      92\n",
       "Age              91\n",
       "VIP              93\n",
       "RoomService      82\n",
       "FoodCourt       106\n",
       "ShoppingMall     98\n",
       "Spa             101\n",
       "VRDeck           80\n",
       "Name             94\n",
       "dtype: int64"
      ]
     },
     "execution_count": 98,
     "metadata": {},
     "output_type": "execute_result"
    }
   ],
   "source": [
    "df_test.isnull().sum()"
   ]
  },
  {
   "cell_type": "code",
   "execution_count": 99,
   "metadata": {},
   "outputs": [
    {
     "name": "stdout",
     "output_type": "stream",
     "text": [
      "<class 'pandas.core.frame.DataFrame'>\n",
      "RangeIndex: 8693 entries, 0 to 8692\n",
      "Data columns (total 14 columns):\n",
      " #   Column        Non-Null Count  Dtype  \n",
      "---  ------        --------------  -----  \n",
      " 0   PassengerId   8693 non-null   object \n",
      " 1   HomePlanet    8492 non-null   object \n",
      " 2   CryoSleep     8476 non-null   object \n",
      " 3   Cabin         8494 non-null   object \n",
      " 4   Destination   8511 non-null   object \n",
      " 5   Age           8514 non-null   float64\n",
      " 6   VIP           8490 non-null   object \n",
      " 7   RoomService   8512 non-null   float64\n",
      " 8   FoodCourt     8510 non-null   float64\n",
      " 9   ShoppingMall  8485 non-null   float64\n",
      " 10  Spa           8510 non-null   float64\n",
      " 11  VRDeck        8505 non-null   float64\n",
      " 12  Name          8493 non-null   object \n",
      " 13  Transported   8693 non-null   bool   \n",
      "dtypes: bool(1), float64(6), object(7)\n",
      "memory usage: 891.5+ KB\n"
     ]
    }
   ],
   "source": [
    "df.info()"
   ]
  },
  {
   "cell_type": "code",
   "execution_count": 100,
   "metadata": {},
   "outputs": [
    {
     "data": {
      "text/plain": [
       "PassengerId       0\n",
       "HomePlanet      201\n",
       "CryoSleep       217\n",
       "Cabin           199\n",
       "Destination     182\n",
       "Age             179\n",
       "VIP             203\n",
       "RoomService     181\n",
       "FoodCourt       183\n",
       "ShoppingMall    208\n",
       "Spa             183\n",
       "VRDeck          188\n",
       "Name            200\n",
       "Transported       0\n",
       "dtype: int64"
      ]
     },
     "execution_count": 100,
     "metadata": {},
     "output_type": "execute_result"
    }
   ],
   "source": [
    "df.isnull().sum()"
   ]
  },
  {
   "cell_type": "code",
   "execution_count": 101,
   "metadata": {},
   "outputs": [],
   "source": [
    "df_use = df"
   ]
  },
  {
   "cell_type": "code",
   "execution_count": 102,
   "metadata": {},
   "outputs": [],
   "source": [
    "# split PassengerId\n",
    "df_use[['group_num', 'ppl_num']] = df_use['PassengerId'].str.split('_', expand=True)"
   ]
  },
  {
   "cell_type": "code",
   "execution_count": 103,
   "metadata": {},
   "outputs": [],
   "source": [
    "# split seats\n",
    "df_use[['cabin_class', 'cabin_row','cabin_sp']] = df_use['Cabin'].str.split('/', expand=True)"
   ]
  },
  {
   "cell_type": "code",
   "execution_count": 104,
   "metadata": {},
   "outputs": [],
   "source": [
    "# dummy for homeplanet\n",
    "home_dummies = pd.get_dummies(df_use['HomePlanet'], prefix='Dept')\n",
    "df_use = pd.concat([df_use, home_dummies], axis=1)"
   ]
  },
  {
   "cell_type": "code",
   "execution_count": 105,
   "metadata": {},
   "outputs": [],
   "source": [
    "# dummy for destination\n",
    "home_dummies = pd.get_dummies(df_use['Destination'], prefix='Arri')\n",
    "df_use = pd.concat([df_use, home_dummies], axis=1)"
   ]
  },
  {
   "cell_type": "code",
   "execution_count": 106,
   "metadata": {},
   "outputs": [],
   "source": [
    "# split name\n",
    "df_use[['first_name', 'Last_name']] = df_use['Name'].str.split(' ', expand=True)"
   ]
  },
  {
   "cell_type": "code",
   "execution_count": 107,
   "metadata": {},
   "outputs": [],
   "source": [
    "last_name = ['Domington','Browlerson','Barbes','Hinglendez','Kiling']"
   ]
  },
  {
   "cell_type": "code",
   "execution_count": 108,
   "metadata": {},
   "outputs": [],
   "source": [
    "df_use['top_last_name'] = df_use['Last_name'].isin(last_name).astype(int)"
   ]
  },
  {
   "cell_type": "code",
   "execution_count": 109,
   "metadata": {},
   "outputs": [
    {
     "data": {
      "text/plain": [
       "PassengerId             0\n",
       "HomePlanet            201\n",
       "CryoSleep             217\n",
       "Cabin                 199\n",
       "Destination           182\n",
       "Age                   179\n",
       "VIP                   203\n",
       "RoomService           181\n",
       "FoodCourt             183\n",
       "ShoppingMall          208\n",
       "Spa                   183\n",
       "VRDeck                188\n",
       "Name                  200\n",
       "Transported             0\n",
       "group_num               0\n",
       "ppl_num                 0\n",
       "cabin_class           199\n",
       "cabin_row             199\n",
       "cabin_sp              199\n",
       "Dept_Earth              0\n",
       "Dept_Europa             0\n",
       "Dept_Mars               0\n",
       "Arri_55 Cancri e        0\n",
       "Arri_PSO J318.5-22      0\n",
       "Arri_TRAPPIST-1e        0\n",
       "first_name            200\n",
       "Last_name             200\n",
       "top_last_name           0\n",
       "dtype: int64"
      ]
     },
     "execution_count": 109,
     "metadata": {},
     "output_type": "execute_result"
    }
   ],
   "source": [
    "df_use.isnull().sum()"
   ]
  },
  {
   "cell_type": "code",
   "execution_count": 110,
   "metadata": {},
   "outputs": [],
   "source": [
    "column_to_use = ['group_num','ppl_num','top_last_name','cabin_class','cabin_row','cabin_sp','CryoSleep'\n",
    "                 ,'Age', 'RoomService','FoodCourt','ShoppingMall','Spa','VRDeck',\n",
    "                 'Dept_Earth','Dept_Europa','Dept_Mars','Arri_55 Cancri e','Arri_PSO J318.5-22','Arri_TRAPPIST-1e','Transported']"
   ]
  },
  {
   "cell_type": "code",
   "execution_count": 111,
   "metadata": {},
   "outputs": [
    {
     "name": "stdout",
     "output_type": "stream",
     "text": [
      "<class 'pandas.core.frame.DataFrame'>\n",
      "RangeIndex: 8693 entries, 0 to 8692\n",
      "Data columns (total 20 columns):\n",
      " #   Column              Non-Null Count  Dtype  \n",
      "---  ------              --------------  -----  \n",
      " 0   group_num           8693 non-null   object \n",
      " 1   ppl_num             8693 non-null   object \n",
      " 2   top_last_name       8693 non-null   int64  \n",
      " 3   cabin_class         8494 non-null   object \n",
      " 4   cabin_row           8494 non-null   object \n",
      " 5   cabin_sp            8494 non-null   object \n",
      " 6   CryoSleep           8476 non-null   object \n",
      " 7   Age                 8514 non-null   float64\n",
      " 8   RoomService         8512 non-null   float64\n",
      " 9   FoodCourt           8510 non-null   float64\n",
      " 10  ShoppingMall        8485 non-null   float64\n",
      " 11  Spa                 8510 non-null   float64\n",
      " 12  VRDeck              8505 non-null   float64\n",
      " 13  Dept_Earth          8693 non-null   bool   \n",
      " 14  Dept_Europa         8693 non-null   bool   \n",
      " 15  Dept_Mars           8693 non-null   bool   \n",
      " 16  Arri_55 Cancri e    8693 non-null   bool   \n",
      " 17  Arri_PSO J318.5-22  8693 non-null   bool   \n",
      " 18  Arri_TRAPPIST-1e    8693 non-null   bool   \n",
      " 19  Transported         8693 non-null   bool   \n",
      "dtypes: bool(7), float64(6), int64(1), object(6)\n",
      "memory usage: 942.4+ KB\n"
     ]
    }
   ],
   "source": [
    "df_train = df_use[column_to_use]\n",
    "df_train.info()"
   ]
  },
  {
   "cell_type": "code",
   "execution_count": 112,
   "metadata": {},
   "outputs": [
    {
     "data": {
      "text/plain": [
       "group_num               0\n",
       "ppl_num                 0\n",
       "top_last_name           0\n",
       "cabin_class           199\n",
       "cabin_row             199\n",
       "cabin_sp              199\n",
       "CryoSleep             217\n",
       "Age                   179\n",
       "RoomService           181\n",
       "FoodCourt             183\n",
       "ShoppingMall          208\n",
       "Spa                   183\n",
       "VRDeck                188\n",
       "Dept_Earth              0\n",
       "Dept_Europa             0\n",
       "Dept_Mars               0\n",
       "Arri_55 Cancri e        0\n",
       "Arri_PSO J318.5-22      0\n",
       "Arri_TRAPPIST-1e        0\n",
       "Transported             0\n",
       "dtype: int64"
      ]
     },
     "execution_count": 112,
     "metadata": {},
     "output_type": "execute_result"
    }
   ],
   "source": [
    "df_train.isnull().sum()"
   ]
  },
  {
   "cell_type": "code",
   "execution_count": 113,
   "metadata": {},
   "outputs": [
    {
     "name": "stderr",
     "output_type": "stream",
     "text": [
      "/var/folders/ds/3p_1_pnx4y5f49xj8vp4dwlw0000gn/T/ipykernel_1572/1927010653.py:2: SettingWithCopyWarning: \n",
      "A value is trying to be set on a copy of a slice from a DataFrame.\n",
      "Try using .loc[row_indexer,col_indexer] = value instead\n",
      "\n",
      "See the caveats in the documentation: https://pandas.pydata.org/pandas-docs/stable/user_guide/indexing.html#returning-a-view-versus-a-copy\n",
      "  df_train[columns_to_fill] = df_train[columns_to_fill].fillna(0)\n"
     ]
    }
   ],
   "source": [
    "columns_to_fill = ['RoomService', 'FoodCourt', 'ShoppingMall', 'Spa', 'VRDeck']\n",
    "df_train[columns_to_fill] = df_train[columns_to_fill].fillna(0)"
   ]
  },
  {
   "cell_type": "code",
   "execution_count": 114,
   "metadata": {},
   "outputs": [
    {
     "name": "stderr",
     "output_type": "stream",
     "text": [
      "/var/folders/ds/3p_1_pnx4y5f49xj8vp4dwlw0000gn/T/ipykernel_1572/590445238.py:1: SettingWithCopyWarning: \n",
      "A value is trying to be set on a copy of a slice from a DataFrame.\n",
      "Try using .loc[row_indexer,col_indexer] = value instead\n",
      "\n",
      "See the caveats in the documentation: https://pandas.pydata.org/pandas-docs/stable/user_guide/indexing.html#returning-a-view-versus-a-copy\n",
      "  df_train['CryoSleep'] = df_train['CryoSleep'].fillna(False)\n",
      "/var/folders/ds/3p_1_pnx4y5f49xj8vp4dwlw0000gn/T/ipykernel_1572/590445238.py:2: SettingWithCopyWarning: \n",
      "A value is trying to be set on a copy of a slice from a DataFrame.\n",
      "Try using .loc[row_indexer,col_indexer] = value instead\n",
      "\n",
      "See the caveats in the documentation: https://pandas.pydata.org/pandas-docs/stable/user_guide/indexing.html#returning-a-view-versus-a-copy\n",
      "  df_train['CryoSleep'] = df_train['CryoSleep'].astype(int)\n"
     ]
    }
   ],
   "source": [
    "df_train['CryoSleep'] = df_train['CryoSleep'].fillna(False)\n",
    "df_train['CryoSleep'] = df_train['CryoSleep'].astype(int)"
   ]
  },
  {
   "cell_type": "code",
   "execution_count": 115,
   "metadata": {},
   "outputs": [
    {
     "name": "stderr",
     "output_type": "stream",
     "text": [
      "/var/folders/ds/3p_1_pnx4y5f49xj8vp4dwlw0000gn/T/ipykernel_1572/4254710733.py:2: SettingWithCopyWarning: \n",
      "A value is trying to be set on a copy of a slice from a DataFrame.\n",
      "Try using .loc[row_indexer,col_indexer] = value instead\n",
      "\n",
      "See the caveats in the documentation: https://pandas.pydata.org/pandas-docs/stable/user_guide/indexing.html#returning-a-view-versus-a-copy\n",
      "  df_train['Age'] = df_train['Age'].fillna(age_mean)\n"
     ]
    }
   ],
   "source": [
    "age_mean = df_train['Age'].mean()\n",
    "df_train['Age'] = df_train['Age'].fillna(age_mean)"
   ]
  },
  {
   "cell_type": "code",
   "execution_count": 116,
   "metadata": {},
   "outputs": [
    {
     "name": "stderr",
     "output_type": "stream",
     "text": [
      "/var/folders/ds/3p_1_pnx4y5f49xj8vp4dwlw0000gn/T/ipykernel_1572/2261482580.py:2: FutureWarning: DataFrame.fillna with 'method' is deprecated and will raise in a future version. Use obj.ffill() or obj.bfill() instead.\n",
      "  df_train[columns_to_fill] = df_train[columns_to_fill].fillna(method='ffill')\n",
      "/var/folders/ds/3p_1_pnx4y5f49xj8vp4dwlw0000gn/T/ipykernel_1572/2261482580.py:2: SettingWithCopyWarning: \n",
      "A value is trying to be set on a copy of a slice from a DataFrame.\n",
      "Try using .loc[row_indexer,col_indexer] = value instead\n",
      "\n",
      "See the caveats in the documentation: https://pandas.pydata.org/pandas-docs/stable/user_guide/indexing.html#returning-a-view-versus-a-copy\n",
      "  df_train[columns_to_fill] = df_train[columns_to_fill].fillna(method='ffill')\n"
     ]
    }
   ],
   "source": [
    "columns_to_fill = ['cabin_class', 'cabin_row', 'cabin_sp']\n",
    "df_train[columns_to_fill] = df_train[columns_to_fill].fillna(method='ffill')"
   ]
  },
  {
   "cell_type": "code",
   "execution_count": 117,
   "metadata": {},
   "outputs": [
    {
     "name": "stderr",
     "output_type": "stream",
     "text": [
      "/var/folders/ds/3p_1_pnx4y5f49xj8vp4dwlw0000gn/T/ipykernel_1572/1222986925.py:2: SettingWithCopyWarning: \n",
      "A value is trying to be set on a copy of a slice from a DataFrame.\n",
      "Try using .loc[row_indexer,col_indexer] = value instead\n",
      "\n",
      "See the caveats in the documentation: https://pandas.pydata.org/pandas-docs/stable/user_guide/indexing.html#returning-a-view-versus-a-copy\n",
      "  df_train[num_col] = df_train[num_col].astype(int)\n"
     ]
    }
   ],
   "source": [
    "num_col = ['group_num','ppl_num','Dept_Earth','Dept_Europa','Dept_Mars','Arri_55 Cancri e','Arri_PSO J318.5-22','Arri_TRAPPIST-1e','cabin_row','Transported']\n",
    "df_train[num_col] = df_train[num_col].astype(int)"
   ]
  },
  {
   "cell_type": "code",
   "execution_count": 118,
   "metadata": {},
   "outputs": [],
   "source": [
    "df_train = pd.get_dummies(df_train, columns=['cabin_class', 'cabin_sp'], prefix='', prefix_sep='')"
   ]
  },
  {
   "cell_type": "code",
   "execution_count": 119,
   "metadata": {},
   "outputs": [],
   "source": [
    "num_col = ['A','B','C','D','E','F','G','T','P','S']\n",
    "df_train[num_col] = df_train[num_col].astype(int)"
   ]
  },
  {
   "cell_type": "code",
   "execution_count": 120,
   "metadata": {},
   "outputs": [
    {
     "name": "stdout",
     "output_type": "stream",
     "text": [
      "<class 'pandas.core.frame.DataFrame'>\n",
      "RangeIndex: 8693 entries, 0 to 8692\n",
      "Data columns (total 28 columns):\n",
      " #   Column              Non-Null Count  Dtype  \n",
      "---  ------              --------------  -----  \n",
      " 0   group_num           8693 non-null   int64  \n",
      " 1   ppl_num             8693 non-null   int64  \n",
      " 2   top_last_name       8693 non-null   int64  \n",
      " 3   cabin_row           8693 non-null   int64  \n",
      " 4   CryoSleep           8693 non-null   int64  \n",
      " 5   Age                 8693 non-null   float64\n",
      " 6   RoomService         8693 non-null   float64\n",
      " 7   FoodCourt           8693 non-null   float64\n",
      " 8   ShoppingMall        8693 non-null   float64\n",
      " 9   Spa                 8693 non-null   float64\n",
      " 10  VRDeck              8693 non-null   float64\n",
      " 11  Dept_Earth          8693 non-null   int64  \n",
      " 12  Dept_Europa         8693 non-null   int64  \n",
      " 13  Dept_Mars           8693 non-null   int64  \n",
      " 14  Arri_55 Cancri e    8693 non-null   int64  \n",
      " 15  Arri_PSO J318.5-22  8693 non-null   int64  \n",
      " 16  Arri_TRAPPIST-1e    8693 non-null   int64  \n",
      " 17  Transported         8693 non-null   int64  \n",
      " 18  A                   8693 non-null   int64  \n",
      " 19  B                   8693 non-null   int64  \n",
      " 20  C                   8693 non-null   int64  \n",
      " 21  D                   8693 non-null   int64  \n",
      " 22  E                   8693 non-null   int64  \n",
      " 23  F                   8693 non-null   int64  \n",
      " 24  G                   8693 non-null   int64  \n",
      " 25  T                   8693 non-null   int64  \n",
      " 26  P                   8693 non-null   int64  \n",
      " 27  S                   8693 non-null   int64  \n",
      "dtypes: float64(6), int64(22)\n",
      "memory usage: 1.9 MB\n"
     ]
    }
   ],
   "source": [
    "df_train.info()"
   ]
  },
  {
   "cell_type": "code",
   "execution_count": 121,
   "metadata": {},
   "outputs": [
    {
     "name": "stdout",
     "output_type": "stream",
     "text": [
      "XGB Accuracy: 0.79\n",
      "Decision Tree Accuracy: 0.74\n",
      "Random Forest Accuracy: 0.79\n"
     ]
    }
   ],
   "source": [
    "X = df_train.drop('Transported', axis=1) \n",
    "y = df_train['Transported']  \n",
    "\n",
    "X_train, X_test, y_train, y_test = train_test_split(X, y, test_size=0.2, random_state=42)"
   ]
  },
  {
   "cell_type": "code",
   "execution_count": 124,
   "metadata": {},
   "outputs": [],
   "source": [
    "xgb_grid = {\n",
    "    'n_estimators': [100, 200],\n",
    "    'max_depth': [3, 5, 7],\n",
    "    'learning_rate': [0.01, 0.1]\n",
    "}\n",
    "\n",
    "# Hyperparameter grid for Decision Tree\n",
    "dt_grid = {\n",
    "    'max_depth': [None, 10, 20, 30],\n",
    "    'min_samples_split': [2, 5, 10],\n",
    "    'min_samples_leaf': [1, 2, 4]\n",
    "}\n",
    "\n",
    "# Hyperparameter grid for Random Forest\n",
    "rf_grid = {\n",
    "    'n_estimators': [100, 200],\n",
    "    'max_depth': [None, 10, 20],\n",
    "    'min_samples_split': [2, 5],\n",
    "    'min_samples_leaf': [1, 2]\n",
    "}\n"
   ]
  },
  {
   "cell_type": "code",
   "execution_count": 125,
   "metadata": {},
   "outputs": [],
   "source": [
    "models = {\n",
    "    'XGB': XGBClassifier(use_label_encoder=False, eval_metric='logloss'),\n",
    "    'Decision Tree': DecisionTreeClassifier(),\n",
    "    'Random Forest': RandomForestClassifier()\n",
    "}\n",
    "grids = {\n",
    "    'XGB': xgb_grid,\n",
    "    'Decision Tree': dt_grid,\n",
    "    'Random Forest': rf_grid\n",
    "}\n",
    "results = {}"
   ]
  },
  {
   "cell_type": "code",
   "execution_count": 137,
   "metadata": {},
   "outputs": [
    {
     "name": "stdout",
     "output_type": "stream",
     "text": [
      "XGB - Best Accuracy: 0.8100\n",
      "Best Parameters: {'learning_rate': 0.1, 'max_depth': 3, 'n_estimators': 200}\n",
      "Decision Tree - Best Accuracy: 0.7663\n",
      "Best Parameters: {'max_depth': 10, 'min_samples_leaf': 4, 'min_samples_split': 10}\n",
      "Random Forest - Best Accuracy: 0.8089\n",
      "Best Parameters: {'max_depth': 10, 'min_samples_leaf': 2, 'min_samples_split': 5, 'n_estimators': 100}\n"
     ]
    }
   ],
   "source": [
    "for name, model in models.items():\n",
    "    grid_search = GridSearchCV(estimator=model, param_grid=grids[name], cv=3, scoring='accuracy', n_jobs=1)\n",
    "    grid_search.fit(X_train, y_train)\n",
    "    best_accuracy = grid_search.best_score_\n",
    "    best_parameters = grid_search.best_params_\n",
    "    results[name] = {'Best Accuracy': best_accuracy, 'Best Parameters': best_parameters}\n",
    "    print(f\"{name} - Best Accuracy: {best_accuracy:.4f}\")\n",
    "    print(f\"Best Parameters: {best_parameters}\")"
   ]
  },
  {
   "cell_type": "code",
   "execution_count": 128,
   "metadata": {},
   "outputs": [
    {
     "name": "stderr",
     "output_type": "stream",
     "text": [
      "[I 2024-02-26 20:20:13,801] A new study created in memory with name: no-name-2543574c-e0b0-4271-8df3-aa190841aa90\n",
      "[I 2024-02-26 20:20:13,933] Trial 0 finished with value: 0.7941345600920069 and parameters: {'n_estimators': 71, 'max_depth': 6, 'learning_rate': 0.017966788712816827, 'subsample': 0.6902168859585487, 'colsample_bytree': 0.5188562835986777}. Best is trial 0 with value: 0.7941345600920069.\n",
      "[I 2024-02-26 20:20:14,209] Trial 1 finished with value: 0.79700977573318 and parameters: {'n_estimators': 121, 'max_depth': 7, 'learning_rate': 0.01230131112283633, 'subsample': 0.8111265978474766, 'colsample_bytree': 0.5970741807994968}. Best is trial 1 with value: 0.79700977573318.\n",
      "[I 2024-02-26 20:20:14,425] Trial 2 finished with value: 0.78953421506613 and parameters: {'n_estimators': 133, 'max_depth': 6, 'learning_rate': 0.011096237508573675, 'subsample': 0.978857406060784, 'colsample_bytree': 0.9023316478488583}. Best is trial 1 with value: 0.79700977573318.\n",
      "[I 2024-02-26 20:20:14,872] Trial 3 finished with value: 0.7975848188614146 and parameters: {'n_estimators': 174, 'max_depth': 10, 'learning_rate': 0.054646610213485075, 'subsample': 0.9082169745270762, 'colsample_bytree': 0.6463270176332587}. Best is trial 3 with value: 0.7975848188614146.\n",
      "[I 2024-02-26 20:20:14,981] Trial 4 finished with value: 0.7958596894767107 and parameters: {'n_estimators': 144, 'max_depth': 3, 'learning_rate': 0.0657196549835461, 'subsample': 0.507942831810505, 'colsample_bytree': 0.6306070178924259}. Best is trial 3 with value: 0.7975848188614146.\n",
      "[I 2024-02-26 20:20:15,082] Trial 5 finished with value: 0.7924094307073031 and parameters: {'n_estimators': 98, 'max_depth': 4, 'learning_rate': 0.03712587537193139, 'subsample': 0.6898479356370533, 'colsample_bytree': 0.7542442615457148}. Best is trial 3 with value: 0.7975848188614146.\n",
      "[I 2024-02-26 20:20:15,256] Trial 6 finished with value: 0.8033352501437608 and parameters: {'n_estimators': 82, 'max_depth': 8, 'learning_rate': 0.0551431575012449, 'subsample': 0.6170644268911218, 'colsample_bytree': 0.7074435276566337}. Best is trial 6 with value: 0.8033352501437608.\n",
      "[I 2024-02-26 20:20:15,488] Trial 7 finished with value: 0.8050603795284647 and parameters: {'n_estimators': 184, 'max_depth': 6, 'learning_rate': 0.06107138311917847, 'subsample': 0.5370939828923021, 'colsample_bytree': 0.8039046546591336}. Best is trial 7 with value: 0.8050603795284647.\n",
      "[I 2024-02-26 20:20:15,589] Trial 8 finished with value: 0.7964347326049454 and parameters: {'n_estimators': 109, 'max_depth': 4, 'learning_rate': 0.09393969271523099, 'subsample': 0.644169991336928, 'colsample_bytree': 0.5654669406903183}. Best is trial 7 with value: 0.8050603795284647.\n",
      "[I 2024-02-26 20:20:15,721] Trial 9 finished with value: 0.7975848188614146 and parameters: {'n_estimators': 97, 'max_depth': 6, 'learning_rate': 0.056857248474945, 'subsample': 0.7950541674617264, 'colsample_bytree': 0.6540117520762205}. Best is trial 7 with value: 0.8050603795284647.\n",
      "[I 2024-02-26 20:20:16,269] Trial 10 finished with value: 0.7912593444508338 and parameters: {'n_estimators': 200, 'max_depth': 9, 'learning_rate': 0.08517905222961614, 'subsample': 0.5357741182853745, 'colsample_bytree': 0.8646864702507718}. Best is trial 7 with value: 0.8050603795284647.\n",
      "[I 2024-02-26 20:20:16,693] Trial 11 finished with value: 0.8033352501437608 and parameters: {'n_estimators': 53, 'max_depth': 8, 'learning_rate': 0.07537121207219191, 'subsample': 0.570387377796318, 'colsample_bytree': 0.7770108566290383}. Best is trial 7 with value: 0.8050603795284647.\n",
      "[I 2024-02-26 20:20:17,895] Trial 12 finished with value: 0.8056354226566993 and parameters: {'n_estimators': 162, 'max_depth': 8, 'learning_rate': 0.03881587324246816, 'subsample': 0.6008550251278711, 'colsample_bytree': 0.996650782268806}. Best is trial 12 with value: 0.8056354226566993.\n",
      "[I 2024-02-26 20:20:18,648] Trial 13 finished with value: 0.7998849913743531 and parameters: {'n_estimators': 163, 'max_depth': 7, 'learning_rate': 0.034942931312548366, 'subsample': 0.5911287283722159, 'colsample_bytree': 0.9783627313871256}. Best is trial 12 with value: 0.8056354226566993.\n",
      "[I 2024-02-26 20:20:19,074] Trial 14 finished with value: 0.7918343875790684 and parameters: {'n_estimators': 193, 'max_depth': 5, 'learning_rate': 0.037890882604054016, 'subsample': 0.729952725544844, 'colsample_bytree': 0.9894734523607799}. Best is trial 12 with value: 0.8056354226566993.\n",
      "[I 2024-02-26 20:20:19,852] Trial 15 finished with value: 0.7993099482461185 and parameters: {'n_estimators': 160, 'max_depth': 8, 'learning_rate': 0.026451976563511174, 'subsample': 0.5058177574133291, 'colsample_bytree': 0.8473575008584561}. Best is trial 12 with value: 0.8056354226566993.\n",
      "[I 2024-02-26 20:20:20,775] Trial 16 finished with value: 0.79700977573318 and parameters: {'n_estimators': 180, 'max_depth': 10, 'learning_rate': 0.04739424439685554, 'subsample': 0.6378839170559503, 'colsample_bytree': 0.9080183399950055}. Best is trial 12 with value: 0.8056354226566993.\n",
      "[I 2024-02-26 20:20:21,520] Trial 17 finished with value: 0.8004600345025877 and parameters: {'n_estimators': 149, 'max_depth': 9, 'learning_rate': 0.07091025624846461, 'subsample': 0.5665937174032074, 'colsample_bytree': 0.8242087489809364}. Best is trial 12 with value: 0.8056354226566993.\n",
      "[I 2024-02-26 20:20:22,019] Trial 18 finished with value: 0.7987349051178838 and parameters: {'n_estimators': 180, 'max_depth': 5, 'learning_rate': 0.048708308717718196, 'subsample': 0.6799873647229387, 'colsample_bytree': 0.9350582928493828}. Best is trial 12 with value: 0.8056354226566993.\n",
      "[I 2024-02-26 20:20:22,447] Trial 19 finished with value: 0.7987349051178838 and parameters: {'n_estimators': 163, 'max_depth': 7, 'learning_rate': 0.06361963460771052, 'subsample': 0.7528224297461206, 'colsample_bytree': 0.7993879851507255}. Best is trial 12 with value: 0.8056354226566993.\n",
      "[I 2024-02-26 20:20:22,780] Trial 20 finished with value: 0.8050603795284647 and parameters: {'n_estimators': 139, 'max_depth': 9, 'learning_rate': 0.07805969436374607, 'subsample': 0.8619538735892553, 'colsample_bytree': 0.703452343631219}. Best is trial 12 with value: 0.8056354226566993.\n",
      "[I 2024-02-26 20:20:23,107] Trial 21 finished with value: 0.7958596894767107 and parameters: {'n_estimators': 138, 'max_depth': 9, 'learning_rate': 0.08547240780219756, 'subsample': 0.8739119985350572, 'colsample_bytree': 0.7240839397789002}. Best is trial 12 with value: 0.8056354226566993.\n",
      "[I 2024-02-26 20:20:23,377] Trial 22 finished with value: 0.8033352501437608 and parameters: {'n_estimators': 125, 'max_depth': 8, 'learning_rate': 0.07830288518770824, 'subsample': 0.8884971577174706, 'colsample_bytree': 0.6954695222664453}. Best is trial 12 with value: 0.8056354226566993.\n",
      "[I 2024-02-26 20:20:23,744] Trial 23 finished with value: 0.7958596894767107 and parameters: {'n_estimators': 149, 'max_depth': 9, 'learning_rate': 0.09505407151904571, 'subsample': 0.8306021291788321, 'colsample_bytree': 0.6857118989218358}. Best is trial 12 with value: 0.8056354226566993.\n",
      "[I 2024-02-26 20:20:24,333] Trial 24 finished with value: 0.7998849913743531 and parameters: {'n_estimators': 190, 'max_depth': 10, 'learning_rate': 0.046806286637667636, 'subsample': 0.957675171927737, 'colsample_bytree': 0.9486640841141429}. Best is trial 12 with value: 0.8056354226566993.\n",
      "[I 2024-02-26 20:20:24,615] Trial 25 finished with value: 0.8056354226566993 and parameters: {'n_estimators': 158, 'max_depth': 7, 'learning_rate': 0.06594602115926297, 'subsample': 0.539282841204715, 'colsample_bytree': 0.7538070023266668}. Best is trial 12 with value: 0.8056354226566993.\n",
      "[I 2024-02-26 20:20:24,813] Trial 26 finished with value: 0.7975848188614146 and parameters: {'n_estimators': 171, 'max_depth': 5, 'learning_rate': 0.06366903820484793, 'subsample': 0.5415719797837655, 'colsample_bytree': 0.8729856387053876}. Best is trial 12 with value: 0.8056354226566993.\n",
      "[I 2024-02-26 20:20:25,105] Trial 27 finished with value: 0.8004600345025877 and parameters: {'n_estimators': 157, 'max_depth': 7, 'learning_rate': 0.027718181568994464, 'subsample': 0.6020478338108407, 'colsample_bytree': 0.8037382913224771}. Best is trial 12 with value: 0.8056354226566993.\n",
      "[I 2024-02-26 20:20:25,357] Trial 28 finished with value: 0.8016101207590569 and parameters: {'n_estimators': 184, 'max_depth': 6, 'learning_rate': 0.04204010434496554, 'subsample': 0.5432458105766803, 'colsample_bytree': 0.762196230103439}. Best is trial 12 with value: 0.8056354226566993.\n",
      "[I 2024-02-26 20:20:25,630] Trial 29 finished with value: 0.8016101207590569 and parameters: {'n_estimators': 168, 'max_depth': 7, 'learning_rate': 0.02670931944236217, 'subsample': 0.6505826722678387, 'colsample_bytree': 0.5085029320170482}. Best is trial 12 with value: 0.8056354226566993.\n",
      "[I 2024-02-26 20:20:25,836] Trial 30 finished with value: 0.8010350776308223 and parameters: {'n_estimators': 199, 'max_depth': 5, 'learning_rate': 0.060536090384397244, 'subsample': 0.500368351936953, 'colsample_bytree': 0.5593717214438927}. Best is trial 12 with value: 0.8056354226566993.\n",
      "[I 2024-02-26 20:20:26,174] Trial 31 finished with value: 0.7952846463484762 and parameters: {'n_estimators': 153, 'max_depth': 8, 'learning_rate': 0.07471799638583942, 'subsample': 0.7644739454674541, 'colsample_bytree': 0.7328683004630914}. Best is trial 12 with value: 0.8056354226566993.\n",
      "[I 2024-02-26 20:20:26,451] Trial 32 finished with value: 0.7993099482461185 and parameters: {'n_estimators': 118, 'max_depth': 9, 'learning_rate': 0.08158201353910627, 'subsample': 0.569372305238257, 'colsample_bytree': 0.6757466298678885}. Best is trial 12 with value: 0.8056354226566993.\n",
      "[I 2024-02-26 20:20:26,637] Trial 33 finished with value: 0.7975848188614146 and parameters: {'n_estimators': 135, 'max_depth': 6, 'learning_rate': 0.06813788820398747, 'subsample': 0.7215744845592775, 'colsample_bytree': 0.6136216082544397}. Best is trial 12 with value: 0.8056354226566993.\n",
      "[I 2024-02-26 20:20:26,971] Trial 34 finished with value: 0.8033352501437608 and parameters: {'n_estimators': 175, 'max_depth': 7, 'learning_rate': 0.019617412279578153, 'subsample': 0.9277720776876697, 'colsample_bytree': 0.7959866434627825}. Best is trial 12 with value: 0.8056354226566993.\n",
      "[I 2024-02-26 20:20:27,270] Trial 35 finished with value: 0.7906843013225991 and parameters: {'n_estimators': 144, 'max_depth': 8, 'learning_rate': 0.07140142177563784, 'subsample': 0.8405138524499766, 'colsample_bytree': 0.7274210955282309}. Best is trial 12 with value: 0.8056354226566993.\n",
      "[I 2024-02-26 20:20:27,473] Trial 36 finished with value: 0.7993099482461185 and parameters: {'n_estimators': 127, 'max_depth': 6, 'learning_rate': 0.05236285434442977, 'subsample': 0.5341378452856488, 'colsample_bytree': 0.6633410494602494}. Best is trial 12 with value: 0.8056354226566993.\n",
      "[I 2024-02-26 20:20:27,885] Trial 37 finished with value: 0.7952846463484762 and parameters: {'n_estimators': 139, 'max_depth': 10, 'learning_rate': 0.08965213792579364, 'subsample': 0.61618658040337, 'colsample_bytree': 0.8390396384174452}. Best is trial 12 with value: 0.8056354226566993.\n",
      "[I 2024-02-26 20:20:28,172] Trial 38 finished with value: 0.8062104657849338 and parameters: {'n_estimators': 168, 'max_depth': 7, 'learning_rate': 0.05955815654986744, 'subsample': 0.9835944133824773, 'colsample_bytree': 0.895792235199653}. Best is trial 38 with value: 0.8062104657849338.\n",
      "[I 2024-02-26 20:20:28,531] Trial 39 finished with value: 0.7998849913743531 and parameters: {'n_estimators': 168, 'max_depth': 7, 'learning_rate': 0.058509123650292864, 'subsample': 0.5775650299038919, 'colsample_bytree': 0.8952797775357217}. Best is trial 38 with value: 0.8062104657849338.\n",
      "[I 2024-02-26 20:20:28,866] Trial 40 finished with value: 0.8004600345025877 and parameters: {'n_estimators': 186, 'max_depth': 4, 'learning_rate': 0.05214055316972314, 'subsample': 0.9812290399344044, 'colsample_bytree': 0.9552831427236996}. Best is trial 38 with value: 0.8062104657849338.\n",
      "[I 2024-02-26 20:20:29,197] Trial 41 finished with value: 0.8016101207590569 and parameters: {'n_estimators': 155, 'max_depth': 8, 'learning_rate': 0.06693989086626351, 'subsample': 0.9370336388750626, 'colsample_bytree': 0.9185093679931154}. Best is trial 38 with value: 0.8062104657849338.\n",
      "[I 2024-02-26 20:20:29,597] Trial 42 finished with value: 0.8056354226566993 and parameters: {'n_estimators': 145, 'max_depth': 7, 'learning_rate': 0.062115437843059375, 'subsample': 0.9948247512627751, 'colsample_bytree': 0.7591411633458078}. Best is trial 38 with value: 0.8062104657849338.\n",
      "[I 2024-02-26 20:20:29,878] Trial 43 finished with value: 0.8021851638872916 and parameters: {'n_estimators': 174, 'max_depth': 7, 'learning_rate': 0.05914978568091543, 'subsample': 0.9836219210747856, 'colsample_bytree': 0.756127102929259}. Best is trial 38 with value: 0.8062104657849338.\n",
      "[I 2024-02-26 20:20:30,252] Trial 44 finished with value: 0.7975848188614146 and parameters: {'n_estimators': 165, 'max_depth': 6, 'learning_rate': 0.04352530880255412, 'subsample': 0.9948779019139166, 'colsample_bytree': 0.8840002206115605}. Best is trial 38 with value: 0.8062104657849338.\n",
      "[I 2024-02-26 20:20:30,496] Trial 45 finished with value: 0.8033352501437608 and parameters: {'n_estimators': 148, 'max_depth': 7, 'learning_rate': 0.06226308363254775, 'subsample': 0.9617526489871734, 'colsample_bytree': 0.7790630498877251}. Best is trial 38 with value: 0.8062104657849338.\n",
      "[I 2024-02-26 20:20:30,712] Trial 46 finished with value: 0.7998849913743531 and parameters: {'n_estimators': 158, 'max_depth': 6, 'learning_rate': 0.05384891074854209, 'subsample': 0.9140054731786755, 'colsample_bytree': 0.822540403631057}. Best is trial 38 with value: 0.8062104657849338.\n",
      "[I 2024-02-26 20:20:31,087] Trial 47 finished with value: 0.7975848188614146 and parameters: {'n_estimators': 179, 'max_depth': 8, 'learning_rate': 0.06985078132614252, 'subsample': 0.7877763701897404, 'colsample_bytree': 0.9715575515400385}. Best is trial 38 with value: 0.8062104657849338.\n",
      "[I 2024-02-26 20:20:31,193] Trial 48 finished with value: 0.7889591719378953 and parameters: {'n_estimators': 107, 'max_depth': 3, 'learning_rate': 0.057017132031178246, 'subsample': 0.5546118758420175, 'colsample_bytree': 0.8591257068290767}. Best is trial 38 with value: 0.8062104657849338.\n",
      "[I 2024-02-26 20:20:31,459] Trial 49 finished with value: 0.8039102932719954 and parameters: {'n_estimators': 193, 'max_depth': 6, 'learning_rate': 0.03248695306571172, 'subsample': 0.524852593553962, 'colsample_bytree': 0.9308107896163117}. Best is trial 38 with value: 0.8062104657849338.\n",
      "[I 2024-02-26 20:20:31,789] Trial 50 finished with value: 0.7952846463484762 and parameters: {'n_estimators': 130, 'max_depth': 7, 'learning_rate': 0.041305749446422804, 'subsample': 0.6662471830183376, 'colsample_bytree': 0.9978885839480804}. Best is trial 38 with value: 0.8062104657849338.\n",
      "[I 2024-02-26 20:20:32,110] Trial 51 finished with value: 0.7964347326049454 and parameters: {'n_estimators': 144, 'max_depth': 8, 'learning_rate': 0.07283913824825192, 'subsample': 0.9550543776424447, 'colsample_bytree': 0.7092451589450889}. Best is trial 38 with value: 0.8062104657849338.\n",
      "[I 2024-02-26 20:20:32,462] Trial 52 finished with value: 0.7993099482461185 and parameters: {'n_estimators': 116, 'max_depth': 9, 'learning_rate': 0.07948077160393477, 'subsample': 0.8845051106990433, 'colsample_bytree': 0.7377170926033105}. Best is trial 38 with value: 0.8062104657849338.\n",
      "[I 2024-02-26 20:20:32,712] Trial 53 finished with value: 0.8016101207590569 and parameters: {'n_estimators': 80, 'max_depth': 8, 'learning_rate': 0.06591799207446744, 'subsample': 0.9995672081160738, 'colsample_bytree': 0.7766435882635204}. Best is trial 38 with value: 0.8062104657849338.\n",
      "[I 2024-02-26 20:20:33,021] Trial 54 finished with value: 0.8039102932719954 and parameters: {'n_estimators': 161, 'max_depth': 7, 'learning_rate': 0.09852390353187276, 'subsample': 0.8625646114173183, 'colsample_bytree': 0.7027786749947486}. Best is trial 38 with value: 0.8062104657849338.\n",
      "[I 2024-02-26 20:20:33,193] Trial 55 finished with value: 0.80448533640023 and parameters: {'n_estimators': 152, 'max_depth': 5, 'learning_rate': 0.06432038457438616, 'subsample': 0.9062012303206819, 'colsample_bytree': 0.6295763106588462}. Best is trial 38 with value: 0.8062104657849338.\n",
      "[I 2024-02-26 20:20:33,609] Trial 56 finished with value: 0.7975848188614146 and parameters: {'n_estimators': 141, 'max_depth': 9, 'learning_rate': 0.05073195014435702, 'subsample': 0.7167063226341386, 'colsample_bytree': 0.821160200870005}. Best is trial 38 with value: 0.8062104657849338.\n",
      "[I 2024-02-26 20:20:33,859] Trial 57 finished with value: 0.7987349051178838 and parameters: {'n_estimators': 132, 'max_depth': 6, 'learning_rate': 0.017998491048501975, 'subsample': 0.59178901147697, 'colsample_bytree': 0.7469303384441659}. Best is trial 38 with value: 0.8062104657849338.\n",
      "[I 2024-02-26 20:20:34,237] Trial 58 finished with value: 0.7998849913743531 and parameters: {'n_estimators': 177, 'max_depth': 8, 'learning_rate': 0.07650637819987555, 'subsample': 0.6229344400347493, 'colsample_bytree': 0.7129949227890882}. Best is trial 38 with value: 0.8062104657849338.\n",
      "[I 2024-02-26 20:20:34,525] Trial 59 finished with value: 0.8004600345025877 and parameters: {'n_estimators': 171, 'max_depth': 7, 'learning_rate': 0.08468519108429812, 'subsample': 0.8121001904901237, 'colsample_bytree': 0.8451316515196665}. Best is trial 38 with value: 0.8062104657849338.\n",
      "[I 2024-02-26 20:20:34,988] Trial 60 finished with value: 0.7993099482461185 and parameters: {'n_estimators': 185, 'max_depth': 10, 'learning_rate': 0.06087219174389115, 'subsample': 0.5138453692667055, 'colsample_bytree': 0.7772856549504583}. Best is trial 38 with value: 0.8062104657849338.\n",
      "[I 2024-02-26 20:20:35,179] Trial 61 finished with value: 0.7975848188614146 and parameters: {'n_estimators': 153, 'max_depth': 5, 'learning_rate': 0.056089794147359776, 'subsample': 0.9460499424212429, 'colsample_bytree': 0.5768261530733456}. Best is trial 38 with value: 0.8062104657849338.\n",
      "[I 2024-02-26 20:20:35,374] Trial 62 finished with value: 0.7952846463484762 and parameters: {'n_estimators': 149, 'max_depth': 4, 'learning_rate': 0.06420490796568602, 'subsample': 0.9058873113715895, 'colsample_bytree': 0.6187208744985306}. Best is trial 38 with value: 0.8062104657849338.\n",
      "[I 2024-02-26 20:20:35,601] Trial 63 finished with value: 0.7998849913743531 and parameters: {'n_estimators': 165, 'max_depth': 6, 'learning_rate': 0.06820453036181023, 'subsample': 0.9680548927235614, 'colsample_bytree': 0.6490675058303648}. Best is trial 38 with value: 0.8062104657849338.\n",
      "[I 2024-02-26 20:20:35,765] Trial 64 finished with value: 0.8033352501437608 and parameters: {'n_estimators': 156, 'max_depth': 5, 'learning_rate': 0.0739265065889852, 'subsample': 0.8532594401579442, 'colsample_bytree': 0.5399752002091374}. Best is trial 38 with value: 0.8062104657849338.\n",
      "[I 2024-02-26 20:20:35,989] Trial 65 finished with value: 0.79700977573318 and parameters: {'n_estimators': 145, 'max_depth': 5, 'learning_rate': 0.04955964177624209, 'subsample': 0.9063496537990998, 'colsample_bytree': 0.6337668581722136}. Best is trial 38 with value: 0.8062104657849338.\n",
      "[I 2024-02-26 20:20:36,143] Trial 66 finished with value: 0.7947096032202415 and parameters: {'n_estimators': 136, 'max_depth': 4, 'learning_rate': 0.04608336459222494, 'subsample': 0.9270043439654151, 'colsample_bytree': 0.6775204967826942}. Best is trial 38 with value: 0.8062104657849338.\n",
      "[I 2024-02-26 20:20:36,455] Trial 67 finished with value: 0.7998849913743531 and parameters: {'n_estimators': 161, 'max_depth': 7, 'learning_rate': 0.06281801155229828, 'subsample': 0.5575744518176369, 'colsample_bytree': 0.6016300890371848}. Best is trial 38 with value: 0.8062104657849338.\n",
      "[I 2024-02-26 20:20:36,653] Trial 68 finished with value: 0.8004600345025877 and parameters: {'n_estimators': 54, 'max_depth': 8, 'learning_rate': 0.014225934135530027, 'subsample': 0.6989768430250145, 'colsample_bytree': 0.8074694158357074}. Best is trial 38 with value: 0.8062104657849338.\n",
      "[I 2024-02-26 20:20:37,171] Trial 69 finished with value: 0.7964347326049454 and parameters: {'n_estimators': 168, 'max_depth': 9, 'learning_rate': 0.05540877654082048, 'subsample': 0.8130668861319829, 'colsample_bytree': 0.7888380109966042}. Best is trial 38 with value: 0.8062104657849338.\n",
      "[I 2024-02-26 20:20:37,343] Trial 70 finished with value: 0.8004600345025877 and parameters: {'n_estimators': 123, 'max_depth': 6, 'learning_rate': 0.06937975165505506, 'subsample': 0.5211541822288476, 'colsample_bytree': 0.761768309359712}. Best is trial 38 with value: 0.8062104657849338.\n",
      "[I 2024-02-26 20:20:37,623] Trial 71 finished with value: 0.80448533640023 and parameters: {'n_estimators': 187, 'max_depth': 6, 'learning_rate': 0.03138114698711073, 'subsample': 0.5280012499060293, 'colsample_bytree': 0.9285904692723427}. Best is trial 38 with value: 0.8062104657849338.\n",
      "[I 2024-02-26 20:20:37,988] Trial 72 finished with value: 0.8010350776308223 and parameters: {'n_estimators': 194, 'max_depth': 7, 'learning_rate': 0.030124465022593083, 'subsample': 0.5479336799892756, 'colsample_bytree': 0.9145972813155163}. Best is trial 38 with value: 0.8062104657849338.\n",
      "[I 2024-02-26 20:20:38,257] Trial 73 finished with value: 0.8050603795284647 and parameters: {'n_estimators': 184, 'max_depth': 6, 'learning_rate': 0.03738857650022377, 'subsample': 0.5828099207210427, 'colsample_bytree': 0.9669886472620813}. Best is trial 38 with value: 0.8062104657849338.\n",
      "[I 2024-02-26 20:20:38,546] Trial 74 finished with value: 0.8027602070155262 and parameters: {'n_estimators': 181, 'max_depth': 5, 'learning_rate': 0.0387279754579537, 'subsample': 0.5902911581035318, 'colsample_bytree': 0.9651440258623741}. Best is trial 38 with value: 0.8062104657849338.\n",
      "[I 2024-02-26 20:20:38,877] Trial 75 finished with value: 0.7998849913743531 and parameters: {'n_estimators': 151, 'max_depth': 7, 'learning_rate': 0.0219454402326308, 'subsample': 0.973105539294284, 'colsample_bytree': 0.9909864794853308}. Best is trial 38 with value: 0.8062104657849338.\n",
      "[I 2024-02-26 20:20:39,175] Trial 76 finished with value: 0.8016101207590569 and parameters: {'n_estimators': 172, 'max_depth': 6, 'learning_rate': 0.058310190249884805, 'subsample': 0.5755182156304559, 'colsample_bytree': 0.9477871817270827}. Best is trial 38 with value: 0.8062104657849338.\n",
      "[I 2024-02-26 20:20:39,537] Trial 77 finished with value: 0.79700977573318 and parameters: {'n_estimators': 159, 'max_depth': 7, 'learning_rate': 0.03557576011614329, 'subsample': 0.6263787165017121, 'colsample_bytree': 0.9751280913382803}. Best is trial 38 with value: 0.8062104657849338.\n",
      "[I 2024-02-26 20:20:39,805] Trial 78 finished with value: 0.7935595169637722 and parameters: {'n_estimators': 197, 'max_depth': 6, 'learning_rate': 0.0448630887563272, 'subsample': 0.6087355890941742, 'colsample_bytree': 0.9822462252290043}. Best is trial 38 with value: 0.8062104657849338.\n",
      "[I 2024-02-26 20:20:40,115] Trial 79 finished with value: 0.8062104657849338 and parameters: {'n_estimators': 141, 'max_depth': 8, 'learning_rate': 0.06061046987097268, 'subsample': 0.8928429166510445, 'colsample_bytree': 0.6627384098783963}. Best is trial 38 with value: 0.8062104657849338.\n",
      "[I 2024-02-26 20:20:40,467] Trial 80 finished with value: 0.8050603795284647 and parameters: {'n_estimators': 141, 'max_depth': 9, 'learning_rate': 0.05370996797374754, 'subsample': 0.7552776408292464, 'colsample_bytree': 0.6904767854398357}. Best is trial 38 with value: 0.8062104657849338.\n",
      "[I 2024-02-26 20:20:40,813] Trial 81 finished with value: 0.79700977573318 and parameters: {'n_estimators': 143, 'max_depth': 9, 'learning_rate': 0.061337292213353885, 'subsample': 0.7343411412347329, 'colsample_bytree': 0.690576041828691}. Best is trial 38 with value: 0.8062104657849338.\n",
      "[I 2024-02-26 20:20:41,165] Trial 82 finished with value: 0.7998849913743531 and parameters: {'n_estimators': 128, 'max_depth': 9, 'learning_rate': 0.03999185940089924, 'subsample': 0.7904856955812989, 'colsample_bytree': 0.6682056058466337}. Best is trial 38 with value: 0.8062104657849338.\n",
      "[I 2024-02-26 20:20:41,455] Trial 83 finished with value: 0.7998849913743531 and parameters: {'n_estimators': 138, 'max_depth': 8, 'learning_rate': 0.05252331319502176, 'subsample': 0.9868822797029412, 'colsample_bytree': 0.7261078717515634}. Best is trial 38 with value: 0.8062104657849338.\n",
      "[I 2024-02-26 20:20:41,851] Trial 84 finished with value: 0.7987349051178838 and parameters: {'n_estimators': 146, 'max_depth': 10, 'learning_rate': 0.06621984018884826, 'subsample': 0.7684713644604325, 'colsample_bytree': 0.7180132936845569}. Best is trial 38 with value: 0.8062104657849338.\n",
      "[I 2024-02-26 20:20:42,198] Trial 85 finished with value: 0.79700977573318 and parameters: {'n_estimators': 140, 'max_depth': 9, 'learning_rate': 0.05925447813678501, 'subsample': 0.835339734927603, 'colsample_bytree': 0.7437518890178487}. Best is trial 38 with value: 0.8062104657849338.\n",
      "[I 2024-02-26 20:20:42,636] Trial 86 finished with value: 0.8033352501437608 and parameters: {'n_estimators': 190, 'max_depth': 8, 'learning_rate': 0.053980369828939584, 'subsample': 0.6547394662028053, 'colsample_bytree': 0.6839020735742966}. Best is trial 38 with value: 0.8062104657849338.\n",
      "[I 2024-02-26 20:20:42,956] Trial 87 finished with value: 0.7975848188614146 and parameters: {'n_estimators': 156, 'max_depth': 8, 'learning_rate': 0.0483146543600035, 'subsample': 0.5619200561372498, 'colsample_bytree': 0.6649086410145637}. Best is trial 38 with value: 0.8062104657849338.\n",
      "[I 2024-02-26 20:20:43,266] Trial 88 finished with value: 0.7987349051178838 and parameters: {'n_estimators': 134, 'max_depth': 7, 'learning_rate': 0.07139504001359091, 'subsample': 0.5008229543698195, 'colsample_bytree': 0.8768055336186159}. Best is trial 38 with value: 0.8062104657849338.\n",
      "[I 2024-02-26 20:20:43,769] Trial 89 finished with value: 0.8033352501437608 and parameters: {'n_estimators': 181, 'max_depth': 9, 'learning_rate': 0.03365208433684599, 'subsample': 0.872848970240094, 'colsample_bytree': 0.8985686673310685}. Best is trial 38 with value: 0.8062104657849338.\n",
      "[I 2024-02-26 20:20:44,094] Trial 90 finished with value: 0.8039102932719954 and parameters: {'n_estimators': 164, 'max_depth': 7, 'learning_rate': 0.03637408540515985, 'subsample': 0.5375142132278006, 'colsample_bytree': 0.9528465764087604}. Best is trial 38 with value: 0.8062104657849338.\n",
      "[I 2024-02-26 20:20:44,342] Trial 91 finished with value: 0.8004600345025877 and parameters: {'n_estimators': 152, 'max_depth': 7, 'learning_rate': 0.06444229129567519, 'subsample': 0.8947127256821431, 'colsample_bytree': 0.7044289890842926}. Best is trial 38 with value: 0.8062104657849338.\n",
      "[I 2024-02-26 20:20:44,634] Trial 92 finished with value: 0.7964347326049454 and parameters: {'n_estimators': 148, 'max_depth': 8, 'learning_rate': 0.060074573582444765, 'subsample': 0.9456261732751897, 'colsample_bytree': 0.6400362873829664}. Best is trial 38 with value: 0.8062104657849338.\n",
      "[I 2024-02-26 20:20:45,033] Trial 93 finished with value: 0.80448533640023 and parameters: {'n_estimators': 142, 'max_depth': 10, 'learning_rate': 0.05727561685188174, 'subsample': 0.850228215075781, 'colsample_bytree': 0.6271549338863229}. Best is trial 38 with value: 0.8062104657849338.\n",
      "[I 2024-02-26 20:20:45,263] Trial 94 finished with value: 0.7981598619896493 and parameters: {'n_estimators': 176, 'max_depth': 6, 'learning_rate': 0.06261406822056784, 'subsample': 0.8987385192021352, 'colsample_bytree': 0.76831710176247}. Best is trial 38 with value: 0.8062104657849338.\n",
      "[I 2024-02-26 20:20:45,458] Trial 95 finished with value: 0.7958596894767107 and parameters: {'n_estimators': 170, 'max_depth': 5, 'learning_rate': 0.06754390124594033, 'subsample': 0.916376246384502, 'colsample_bytree': 0.6481217430892652}. Best is trial 38 with value: 0.8062104657849338.\n",
      "[I 2024-02-26 20:20:45,952] Trial 96 finished with value: 0.7952846463484762 and parameters: {'n_estimators': 166, 'max_depth': 9, 'learning_rate': 0.07641728195833111, 'subsample': 0.8823076148893337, 'colsample_bytree': 0.9998122785956155}. Best is trial 38 with value: 0.8062104657849338.\n",
      "[I 2024-02-26 20:20:46,215] Trial 97 finished with value: 0.7998849913743531 and parameters: {'n_estimators': 132, 'max_depth': 8, 'learning_rate': 0.08136264548103862, 'subsample': 0.9272819025900241, 'colsample_bytree': 0.5993756121534499}. Best is trial 38 with value: 0.8062104657849338.\n",
      "[I 2024-02-26 20:20:46,516] Trial 98 finished with value: 0.8016101207590569 and parameters: {'n_estimators': 154, 'max_depth': 7, 'learning_rate': 0.0655622340141037, 'subsample': 0.5897626828707025, 'colsample_bytree': 0.7346958619476964}. Best is trial 38 with value: 0.8062104657849338.\n",
      "[I 2024-02-26 20:20:46,647] Trial 99 finished with value: 0.7929844738355377 and parameters: {'n_estimators': 160, 'max_depth': 3, 'learning_rate': 0.08967930111682113, 'subsample': 0.8272665612064595, 'colsample_bytree': 0.7002358516858326}. Best is trial 38 with value: 0.8062104657849338.\n"
     ]
    },
    {
     "name": "stdout",
     "output_type": "stream",
     "text": [
      "{'n_estimators': 168, 'max_depth': 7, 'learning_rate': 0.05955815654986744, 'subsample': 0.9835944133824773, 'colsample_bytree': 0.895792235199653}\n"
     ]
    }
   ],
   "source": [
    "def objective(trial):\n",
    "    param = {\n",
    "        'n_estimators': trial.suggest_int('n_estimators', 50, 200),\n",
    "        'max_depth': trial.suggest_int('max_depth', 3, 10),\n",
    "        'learning_rate': trial.suggest_float('learning_rate', 0.01, 0.1),\n",
    "        'subsample': trial.suggest_float('subsample', 0.5, 1.0),\n",
    "        'colsample_bytree': trial.suggest_float('colsample_bytree', 0.5, 1.0),\n",
    "    }\n",
    "    model = XGBClassifier(**param)\n",
    "    model.fit(X_train, y_train)\n",
    "    preds = model.predict(X_test)\n",
    "    accuracy = accuracy_score(y_test, preds)\n",
    "    return accuracy\n",
    "\n",
    "study = optuna.create_study(direction='maximize')\n",
    "study.optimize(objective, n_trials=100)\n",
    "\n",
    "# Print the best parameters\n",
    "print(study.best_trial.params)\n"
   ]
  },
  {
   "cell_type": "code",
   "execution_count": 133,
   "metadata": {},
   "outputs": [
    {
     "data": {
      "text/html": [
       "<style>#sk-container-id-2 {\n",
       "  /* Definition of color scheme common for light and dark mode */\n",
       "  --sklearn-color-text: black;\n",
       "  --sklearn-color-line: gray;\n",
       "  /* Definition of color scheme for unfitted estimators */\n",
       "  --sklearn-color-unfitted-level-0: #fff5e6;\n",
       "  --sklearn-color-unfitted-level-1: #f6e4d2;\n",
       "  --sklearn-color-unfitted-level-2: #ffe0b3;\n",
       "  --sklearn-color-unfitted-level-3: chocolate;\n",
       "  /* Definition of color scheme for fitted estimators */\n",
       "  --sklearn-color-fitted-level-0: #f0f8ff;\n",
       "  --sklearn-color-fitted-level-1: #d4ebff;\n",
       "  --sklearn-color-fitted-level-2: #b3dbfd;\n",
       "  --sklearn-color-fitted-level-3: cornflowerblue;\n",
       "\n",
       "  /* Specific color for light theme */\n",
       "  --sklearn-color-text-on-default-background: var(--sg-text-color, var(--theme-code-foreground, var(--jp-content-font-color1, black)));\n",
       "  --sklearn-color-background: var(--sg-background-color, var(--theme-background, var(--jp-layout-color0, white)));\n",
       "  --sklearn-color-border-box: var(--sg-text-color, var(--theme-code-foreground, var(--jp-content-font-color1, black)));\n",
       "  --sklearn-color-icon: #696969;\n",
       "\n",
       "  @media (prefers-color-scheme: dark) {\n",
       "    /* Redefinition of color scheme for dark theme */\n",
       "    --sklearn-color-text-on-default-background: var(--sg-text-color, var(--theme-code-foreground, var(--jp-content-font-color1, white)));\n",
       "    --sklearn-color-background: var(--sg-background-color, var(--theme-background, var(--jp-layout-color0, #111)));\n",
       "    --sklearn-color-border-box: var(--sg-text-color, var(--theme-code-foreground, var(--jp-content-font-color1, white)));\n",
       "    --sklearn-color-icon: #878787;\n",
       "  }\n",
       "}\n",
       "\n",
       "#sk-container-id-2 {\n",
       "  color: var(--sklearn-color-text);\n",
       "}\n",
       "\n",
       "#sk-container-id-2 pre {\n",
       "  padding: 0;\n",
       "}\n",
       "\n",
       "#sk-container-id-2 input.sk-hidden--visually {\n",
       "  border: 0;\n",
       "  clip: rect(1px 1px 1px 1px);\n",
       "  clip: rect(1px, 1px, 1px, 1px);\n",
       "  height: 1px;\n",
       "  margin: -1px;\n",
       "  overflow: hidden;\n",
       "  padding: 0;\n",
       "  position: absolute;\n",
       "  width: 1px;\n",
       "}\n",
       "\n",
       "#sk-container-id-2 div.sk-dashed-wrapped {\n",
       "  border: 1px dashed var(--sklearn-color-line);\n",
       "  margin: 0 0.4em 0.5em 0.4em;\n",
       "  box-sizing: border-box;\n",
       "  padding-bottom: 0.4em;\n",
       "  background-color: var(--sklearn-color-background);\n",
       "}\n",
       "\n",
       "#sk-container-id-2 div.sk-container {\n",
       "  /* jupyter's `normalize.less` sets `[hidden] { display: none; }`\n",
       "     but bootstrap.min.css set `[hidden] { display: none !important; }`\n",
       "     so we also need the `!important` here to be able to override the\n",
       "     default hidden behavior on the sphinx rendered scikit-learn.org.\n",
       "     See: https://github.com/scikit-learn/scikit-learn/issues/21755 */\n",
       "  display: inline-block !important;\n",
       "  position: relative;\n",
       "}\n",
       "\n",
       "#sk-container-id-2 div.sk-text-repr-fallback {\n",
       "  display: none;\n",
       "}\n",
       "\n",
       "div.sk-parallel-item,\n",
       "div.sk-serial,\n",
       "div.sk-item {\n",
       "  /* draw centered vertical line to link estimators */\n",
       "  background-image: linear-gradient(var(--sklearn-color-text-on-default-background), var(--sklearn-color-text-on-default-background));\n",
       "  background-size: 2px 100%;\n",
       "  background-repeat: no-repeat;\n",
       "  background-position: center center;\n",
       "}\n",
       "\n",
       "/* Parallel-specific style estimator block */\n",
       "\n",
       "#sk-container-id-2 div.sk-parallel-item::after {\n",
       "  content: \"\";\n",
       "  width: 100%;\n",
       "  border-bottom: 2px solid var(--sklearn-color-text-on-default-background);\n",
       "  flex-grow: 1;\n",
       "}\n",
       "\n",
       "#sk-container-id-2 div.sk-parallel {\n",
       "  display: flex;\n",
       "  align-items: stretch;\n",
       "  justify-content: center;\n",
       "  background-color: var(--sklearn-color-background);\n",
       "  position: relative;\n",
       "}\n",
       "\n",
       "#sk-container-id-2 div.sk-parallel-item {\n",
       "  display: flex;\n",
       "  flex-direction: column;\n",
       "}\n",
       "\n",
       "#sk-container-id-2 div.sk-parallel-item:first-child::after {\n",
       "  align-self: flex-end;\n",
       "  width: 50%;\n",
       "}\n",
       "\n",
       "#sk-container-id-2 div.sk-parallel-item:last-child::after {\n",
       "  align-self: flex-start;\n",
       "  width: 50%;\n",
       "}\n",
       "\n",
       "#sk-container-id-2 div.sk-parallel-item:only-child::after {\n",
       "  width: 0;\n",
       "}\n",
       "\n",
       "/* Serial-specific style estimator block */\n",
       "\n",
       "#sk-container-id-2 div.sk-serial {\n",
       "  display: flex;\n",
       "  flex-direction: column;\n",
       "  align-items: center;\n",
       "  background-color: var(--sklearn-color-background);\n",
       "  padding-right: 1em;\n",
       "  padding-left: 1em;\n",
       "}\n",
       "\n",
       "\n",
       "/* Toggleable style: style used for estimator/Pipeline/ColumnTransformer box that is\n",
       "clickable and can be expanded/collapsed.\n",
       "- Pipeline and ColumnTransformer use this feature and define the default style\n",
       "- Estimators will overwrite some part of the style using the `sk-estimator` class\n",
       "*/\n",
       "\n",
       "/* Pipeline and ColumnTransformer style (default) */\n",
       "\n",
       "#sk-container-id-2 div.sk-toggleable {\n",
       "  /* Default theme specific background. It is overwritten whether we have a\n",
       "  specific estimator or a Pipeline/ColumnTransformer */\n",
       "  background-color: var(--sklearn-color-background);\n",
       "}\n",
       "\n",
       "/* Toggleable label */\n",
       "#sk-container-id-2 label.sk-toggleable__label {\n",
       "  cursor: pointer;\n",
       "  display: block;\n",
       "  width: 100%;\n",
       "  margin-bottom: 0;\n",
       "  padding: 0.5em;\n",
       "  box-sizing: border-box;\n",
       "  text-align: center;\n",
       "}\n",
       "\n",
       "#sk-container-id-2 label.sk-toggleable__label-arrow:before {\n",
       "  /* Arrow on the left of the label */\n",
       "  content: \"▸\";\n",
       "  float: left;\n",
       "  margin-right: 0.25em;\n",
       "  color: var(--sklearn-color-icon);\n",
       "}\n",
       "\n",
       "#sk-container-id-2 label.sk-toggleable__label-arrow:hover:before {\n",
       "  color: var(--sklearn-color-text);\n",
       "}\n",
       "\n",
       "/* Toggleable content - dropdown */\n",
       "\n",
       "#sk-container-id-2 div.sk-toggleable__content {\n",
       "  max-height: 0;\n",
       "  max-width: 0;\n",
       "  overflow: hidden;\n",
       "  text-align: left;\n",
       "  /* unfitted */\n",
       "  background-color: var(--sklearn-color-unfitted-level-0);\n",
       "}\n",
       "\n",
       "#sk-container-id-2 div.sk-toggleable__content.fitted {\n",
       "  /* fitted */\n",
       "  background-color: var(--sklearn-color-fitted-level-0);\n",
       "}\n",
       "\n",
       "#sk-container-id-2 div.sk-toggleable__content pre {\n",
       "  margin: 0.2em;\n",
       "  border-radius: 0.25em;\n",
       "  color: var(--sklearn-color-text);\n",
       "  /* unfitted */\n",
       "  background-color: var(--sklearn-color-unfitted-level-0);\n",
       "}\n",
       "\n",
       "#sk-container-id-2 div.sk-toggleable__content.fitted pre {\n",
       "  /* unfitted */\n",
       "  background-color: var(--sklearn-color-fitted-level-0);\n",
       "}\n",
       "\n",
       "#sk-container-id-2 input.sk-toggleable__control:checked~div.sk-toggleable__content {\n",
       "  /* Expand drop-down */\n",
       "  max-height: 200px;\n",
       "  max-width: 100%;\n",
       "  overflow: auto;\n",
       "}\n",
       "\n",
       "#sk-container-id-2 input.sk-toggleable__control:checked~label.sk-toggleable__label-arrow:before {\n",
       "  content: \"▾\";\n",
       "}\n",
       "\n",
       "/* Pipeline/ColumnTransformer-specific style */\n",
       "\n",
       "#sk-container-id-2 div.sk-label input.sk-toggleable__control:checked~label.sk-toggleable__label {\n",
       "  color: var(--sklearn-color-text);\n",
       "  background-color: var(--sklearn-color-unfitted-level-2);\n",
       "}\n",
       "\n",
       "#sk-container-id-2 div.sk-label.fitted input.sk-toggleable__control:checked~label.sk-toggleable__label {\n",
       "  background-color: var(--sklearn-color-fitted-level-2);\n",
       "}\n",
       "\n",
       "/* Estimator-specific style */\n",
       "\n",
       "/* Colorize estimator box */\n",
       "#sk-container-id-2 div.sk-estimator input.sk-toggleable__control:checked~label.sk-toggleable__label {\n",
       "  /* unfitted */\n",
       "  background-color: var(--sklearn-color-unfitted-level-2);\n",
       "}\n",
       "\n",
       "#sk-container-id-2 div.sk-estimator.fitted input.sk-toggleable__control:checked~label.sk-toggleable__label {\n",
       "  /* fitted */\n",
       "  background-color: var(--sklearn-color-fitted-level-2);\n",
       "}\n",
       "\n",
       "#sk-container-id-2 div.sk-label label.sk-toggleable__label,\n",
       "#sk-container-id-2 div.sk-label label {\n",
       "  /* The background is the default theme color */\n",
       "  color: var(--sklearn-color-text-on-default-background);\n",
       "}\n",
       "\n",
       "/* On hover, darken the color of the background */\n",
       "#sk-container-id-2 div.sk-label:hover label.sk-toggleable__label {\n",
       "  color: var(--sklearn-color-text);\n",
       "  background-color: var(--sklearn-color-unfitted-level-2);\n",
       "}\n",
       "\n",
       "/* Label box, darken color on hover, fitted */\n",
       "#sk-container-id-2 div.sk-label.fitted:hover label.sk-toggleable__label.fitted {\n",
       "  color: var(--sklearn-color-text);\n",
       "  background-color: var(--sklearn-color-fitted-level-2);\n",
       "}\n",
       "\n",
       "/* Estimator label */\n",
       "\n",
       "#sk-container-id-2 div.sk-label label {\n",
       "  font-family: monospace;\n",
       "  font-weight: bold;\n",
       "  display: inline-block;\n",
       "  line-height: 1.2em;\n",
       "}\n",
       "\n",
       "#sk-container-id-2 div.sk-label-container {\n",
       "  text-align: center;\n",
       "}\n",
       "\n",
       "/* Estimator-specific */\n",
       "#sk-container-id-2 div.sk-estimator {\n",
       "  font-family: monospace;\n",
       "  border: 1px dotted var(--sklearn-color-border-box);\n",
       "  border-radius: 0.25em;\n",
       "  box-sizing: border-box;\n",
       "  margin-bottom: 0.5em;\n",
       "  /* unfitted */\n",
       "  background-color: var(--sklearn-color-unfitted-level-0);\n",
       "}\n",
       "\n",
       "#sk-container-id-2 div.sk-estimator.fitted {\n",
       "  /* fitted */\n",
       "  background-color: var(--sklearn-color-fitted-level-0);\n",
       "}\n",
       "\n",
       "/* on hover */\n",
       "#sk-container-id-2 div.sk-estimator:hover {\n",
       "  /* unfitted */\n",
       "  background-color: var(--sklearn-color-unfitted-level-2);\n",
       "}\n",
       "\n",
       "#sk-container-id-2 div.sk-estimator.fitted:hover {\n",
       "  /* fitted */\n",
       "  background-color: var(--sklearn-color-fitted-level-2);\n",
       "}\n",
       "\n",
       "/* Specification for estimator info (e.g. \"i\" and \"?\") */\n",
       "\n",
       "/* Common style for \"i\" and \"?\" */\n",
       "\n",
       ".sk-estimator-doc-link,\n",
       "a:link.sk-estimator-doc-link,\n",
       "a:visited.sk-estimator-doc-link {\n",
       "  float: right;\n",
       "  font-size: smaller;\n",
       "  line-height: 1em;\n",
       "  font-family: monospace;\n",
       "  background-color: var(--sklearn-color-background);\n",
       "  border-radius: 1em;\n",
       "  height: 1em;\n",
       "  width: 1em;\n",
       "  text-decoration: none !important;\n",
       "  margin-left: 1ex;\n",
       "  /* unfitted */\n",
       "  border: var(--sklearn-color-unfitted-level-1) 1pt solid;\n",
       "  color: var(--sklearn-color-unfitted-level-1);\n",
       "}\n",
       "\n",
       ".sk-estimator-doc-link.fitted,\n",
       "a:link.sk-estimator-doc-link.fitted,\n",
       "a:visited.sk-estimator-doc-link.fitted {\n",
       "  /* fitted */\n",
       "  border: var(--sklearn-color-fitted-level-1) 1pt solid;\n",
       "  color: var(--sklearn-color-fitted-level-1);\n",
       "}\n",
       "\n",
       "/* On hover */\n",
       "div.sk-estimator:hover .sk-estimator-doc-link:hover,\n",
       ".sk-estimator-doc-link:hover,\n",
       "div.sk-label-container:hover .sk-estimator-doc-link:hover,\n",
       ".sk-estimator-doc-link:hover {\n",
       "  /* unfitted */\n",
       "  background-color: var(--sklearn-color-unfitted-level-3);\n",
       "  color: var(--sklearn-color-background);\n",
       "  text-decoration: none;\n",
       "}\n",
       "\n",
       "div.sk-estimator.fitted:hover .sk-estimator-doc-link.fitted:hover,\n",
       ".sk-estimator-doc-link.fitted:hover,\n",
       "div.sk-label-container:hover .sk-estimator-doc-link.fitted:hover,\n",
       ".sk-estimator-doc-link.fitted:hover {\n",
       "  /* fitted */\n",
       "  background-color: var(--sklearn-color-fitted-level-3);\n",
       "  color: var(--sklearn-color-background);\n",
       "  text-decoration: none;\n",
       "}\n",
       "\n",
       "/* Span, style for the box shown on hovering the info icon */\n",
       ".sk-estimator-doc-link span {\n",
       "  display: none;\n",
       "  z-index: 9999;\n",
       "  position: relative;\n",
       "  font-weight: normal;\n",
       "  right: .2ex;\n",
       "  padding: .5ex;\n",
       "  margin: .5ex;\n",
       "  width: min-content;\n",
       "  min-width: 20ex;\n",
       "  max-width: 50ex;\n",
       "  color: var(--sklearn-color-text);\n",
       "  box-shadow: 2pt 2pt 4pt #999;\n",
       "  /* unfitted */\n",
       "  background: var(--sklearn-color-unfitted-level-0);\n",
       "  border: .5pt solid var(--sklearn-color-unfitted-level-3);\n",
       "}\n",
       "\n",
       ".sk-estimator-doc-link.fitted span {\n",
       "  /* fitted */\n",
       "  background: var(--sklearn-color-fitted-level-0);\n",
       "  border: var(--sklearn-color-fitted-level-3);\n",
       "}\n",
       "\n",
       ".sk-estimator-doc-link:hover span {\n",
       "  display: block;\n",
       "}\n",
       "\n",
       "/* \"?\"-specific style due to the `<a>` HTML tag */\n",
       "\n",
       "#sk-container-id-2 a.estimator_doc_link {\n",
       "  float: right;\n",
       "  font-size: 1rem;\n",
       "  line-height: 1em;\n",
       "  font-family: monospace;\n",
       "  background-color: var(--sklearn-color-background);\n",
       "  border-radius: 1rem;\n",
       "  height: 1rem;\n",
       "  width: 1rem;\n",
       "  text-decoration: none;\n",
       "  /* unfitted */\n",
       "  color: var(--sklearn-color-unfitted-level-1);\n",
       "  border: var(--sklearn-color-unfitted-level-1) 1pt solid;\n",
       "}\n",
       "\n",
       "#sk-container-id-2 a.estimator_doc_link.fitted {\n",
       "  /* fitted */\n",
       "  border: var(--sklearn-color-fitted-level-1) 1pt solid;\n",
       "  color: var(--sklearn-color-fitted-level-1);\n",
       "}\n",
       "\n",
       "/* On hover */\n",
       "#sk-container-id-2 a.estimator_doc_link:hover {\n",
       "  /* unfitted */\n",
       "  background-color: var(--sklearn-color-unfitted-level-3);\n",
       "  color: var(--sklearn-color-background);\n",
       "  text-decoration: none;\n",
       "}\n",
       "\n",
       "#sk-container-id-2 a.estimator_doc_link.fitted:hover {\n",
       "  /* fitted */\n",
       "  background-color: var(--sklearn-color-fitted-level-3);\n",
       "}\n",
       "</style><div id=\"sk-container-id-2\" class=\"sk-top-container\"><div class=\"sk-text-repr-fallback\"><pre>XGBClassifier(base_score=None, booster=None, callbacks=None,\n",
       "              colsample_bylevel=None, colsample_bynode=None,\n",
       "              colsample_bytree=0.895792235199653, device=None,\n",
       "              early_stopping_rounds=None, enable_categorical=False,\n",
       "              eval_metric=&#x27;logloss&#x27;, feature_types=None, gamma=None,\n",
       "              grow_policy=None, importance_type=None,\n",
       "              interaction_constraints=None, learning_rate=0.05955815654986744,\n",
       "              max_bin=None, max_cat_threshold=None, max_cat_to_onehot=None,\n",
       "              max_delta_step=None, max_depth=7, max_leaves=None,\n",
       "              min_child_weight=None, missing=nan, monotone_constraints=None,\n",
       "              multi_strategy=None, n_estimators=168, n_jobs=None,\n",
       "              num_parallel_tree=None, random_state=None, ...)</pre><b>In a Jupyter environment, please rerun this cell to show the HTML representation or trust the notebook. <br />On GitHub, the HTML representation is unable to render, please try loading this page with nbviewer.org.</b></div><div class=\"sk-container\" hidden><div class=\"sk-item\"><div class=\"sk-estimator fitted sk-toggleable\"><input class=\"sk-toggleable__control sk-hidden--visually\" id=\"sk-estimator-id-2\" type=\"checkbox\" checked><label for=\"sk-estimator-id-2\" class=\"sk-toggleable__label fitted sk-toggleable__label-arrow fitted\">&nbsp;XGBClassifier<span class=\"sk-estimator-doc-link fitted\">i<span>Fitted</span></span></label><div class=\"sk-toggleable__content fitted\"><pre>XGBClassifier(base_score=None, booster=None, callbacks=None,\n",
       "              colsample_bylevel=None, colsample_bynode=None,\n",
       "              colsample_bytree=0.895792235199653, device=None,\n",
       "              early_stopping_rounds=None, enable_categorical=False,\n",
       "              eval_metric=&#x27;logloss&#x27;, feature_types=None, gamma=None,\n",
       "              grow_policy=None, importance_type=None,\n",
       "              interaction_constraints=None, learning_rate=0.05955815654986744,\n",
       "              max_bin=None, max_cat_threshold=None, max_cat_to_onehot=None,\n",
       "              max_delta_step=None, max_depth=7, max_leaves=None,\n",
       "              min_child_weight=None, missing=nan, monotone_constraints=None,\n",
       "              multi_strategy=None, n_estimators=168, n_jobs=None,\n",
       "              num_parallel_tree=None, random_state=None, ...)</pre></div> </div></div></div></div>"
      ],
      "text/plain": [
       "XGBClassifier(base_score=None, booster=None, callbacks=None,\n",
       "              colsample_bylevel=None, colsample_bynode=None,\n",
       "              colsample_bytree=0.895792235199653, device=None,\n",
       "              early_stopping_rounds=None, enable_categorical=False,\n",
       "              eval_metric='logloss', feature_types=None, gamma=None,\n",
       "              grow_policy=None, importance_type=None,\n",
       "              interaction_constraints=None, learning_rate=0.05955815654986744,\n",
       "              max_bin=None, max_cat_threshold=None, max_cat_to_onehot=None,\n",
       "              max_delta_step=None, max_depth=7, max_leaves=None,\n",
       "              min_child_weight=None, missing=nan, monotone_constraints=None,\n",
       "              multi_strategy=None, n_estimators=168, n_jobs=None,\n",
       "              num_parallel_tree=None, random_state=None, ...)"
      ]
     },
     "execution_count": 133,
     "metadata": {},
     "output_type": "execute_result"
    }
   ],
   "source": [
    "import xgboost as xgb\n",
    "best_params = {\n",
    "    'n_estimators': 168,\n",
    "    'max_depth': 7,\n",
    "    'learning_rate': 0.05955815654986744,\n",
    "    'subsample': 0.9835944133824773,\n",
    "    'colsample_bytree': 0.895792235199653\n",
    "}\n",
    "\n",
    "best_model = xgb.XGBClassifier(**best_params, use_label_encoder=False, eval_metric='logloss')\n",
    "best_model.fit(X_train, y_train)"
   ]
  },
  {
   "cell_type": "code",
   "execution_count": 134,
   "metadata": {},
   "outputs": [
    {
     "name": "stdout",
     "output_type": "stream",
     "text": [
      "Optimized XGBoost Accuracy: 0.8062\n"
     ]
    }
   ],
   "source": [
    "y_pred = best_model.predict(X_test)\n",
    "accuracy = accuracy_score(y_test, y_pred)\n",
    "print(f\"Optimized XGBoost Accuracy: {accuracy:.4f}\")"
   ]
  },
  {
   "cell_type": "code",
   "execution_count": 135,
   "metadata": {},
   "outputs": [
    {
     "data": {
      "image/png": "[encoded data removed]",
      "text/plain": [
       "<Figure size 640x480 with 1 Axes>"
      ]
     },
     "metadata": {},
     "output_type": "display_data"
    }
   ],
   "source": [
    "import matplotlib.pyplot as plt\n",
    "\n",
    "xgb.plot_importance(best_model)\n",
    "plt.title(\"Feature Importance\")\n",
    "plt.show()"
   ]
  },
  {
   "cell_type": "code",
   "execution_count": 136,
   "metadata": {},
   "outputs": [
    {
     "name": "stdout",
     "output_type": "stream",
     "text": [
      "Cross-validated accuracy: 0.69 (+/- 0.13)\n"
     ]
    }
   ],
   "source": [
    "from sklearn.model_selection import cross_val_score\n",
    "\n",
    "scores = cross_val_score(best_model, X, y, cv=5, scoring='accuracy')\n",
    "print(\"Cross-validated accuracy: %0.2f (+/- %0.2f)\" % (scores.mean(), scores.std() * 2))"
   ]
  },
  {
   "cell_type": "code",
   "execution_count": null,
   "metadata": {},
   "outputs": [],
   "source": []
  }
 ],
 "metadata": {
  "kernelspec": {
   "display_name": "base",
   "language": "python",
   "name": "python3"
  },
  "language_info": {
   "codemirror_mode": {
    "name": "ipython",
    "version": 3
   },
   "file_extension": ".py",
   "mimetype": "text/x-python",
   "name": "python",
   "nbconvert_exporter": "python",
   "pygments_lexer": "ipython3",
   "version": "3.11.5"
  }
 },
 "nbformat": 4,
 "nbformat_minor": 2
}
